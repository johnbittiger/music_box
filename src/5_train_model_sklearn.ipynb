{
 "cells": [
  {
   "cell_type": "markdown",
   "metadata": {},
   "source": [
    "### Load data"
   ]
  },
  {
   "cell_type": "code",
   "execution_count": 1,
   "metadata": {},
   "outputs": [],
   "source": [
    "import numpy as np\n",
    "import pandas as pd\n",
    "import matplotlib.pyplot as plt\n",
    "\n",
    "% matplotlib inline\n",
    "# Always make it pretty.\n",
    "plt.style.use('ggplot')"
   ]
  },
  {
   "cell_type": "code",
   "execution_count": 2,
   "metadata": {},
   "outputs": [],
   "source": [
    "# Load data from file\n",
    "df = pd.read_csv('../data/df_model_final.csv')"
   ]
  },
  {
   "cell_type": "code",
   "execution_count": 3,
   "metadata": {},
   "outputs": [
    {
     "data": {
      "text/html": [
       "<div>\n",
       "<style scoped>\n",
       "    .dataframe tbody tr th:only-of-type {\n",
       "        vertical-align: middle;\n",
       "    }\n",
       "\n",
       "    .dataframe tbody tr th {\n",
       "        vertical-align: top;\n",
       "    }\n",
       "\n",
       "    .dataframe thead th {\n",
       "        text-align: right;\n",
       "    }\n",
       "</style>\n",
       "<table border=\"1\" class=\"dataframe\">\n",
       "  <thead>\n",
       "    <tr style=\"text-align: right;\">\n",
       "      <th></th>\n",
       "      <th>uid</th>\n",
       "      <th>label</th>\n",
       "      <th>freq_P_last_1</th>\n",
       "      <th>freq_P_last_3</th>\n",
       "      <th>freq_P_last_7</th>\n",
       "      <th>freq_P_last_14</th>\n",
       "      <th>freq_P_last_30</th>\n",
       "      <th>freq_D_last_1</th>\n",
       "      <th>freq_D_last_3</th>\n",
       "      <th>freq_D_last_7</th>\n",
       "      <th>freq_D_last_14</th>\n",
       "      <th>freq_D_last_30</th>\n",
       "      <th>freq_S_last_1</th>\n",
       "      <th>freq_S_last_3</th>\n",
       "      <th>freq_S_last_7</th>\n",
       "      <th>freq_S_last_14</th>\n",
       "      <th>freq_S_last_30</th>\n",
       "      <th>device_type</th>\n",
       "    </tr>\n",
       "  </thead>\n",
       "  <tbody>\n",
       "    <tr>\n",
       "      <th>0</th>\n",
       "      <td>11596711</td>\n",
       "      <td>0</td>\n",
       "      <td>0</td>\n",
       "      <td>8</td>\n",
       "      <td>28</td>\n",
       "      <td>68</td>\n",
       "      <td>152</td>\n",
       "      <td>0</td>\n",
       "      <td>0</td>\n",
       "      <td>0</td>\n",
       "      <td>0</td>\n",
       "      <td>0</td>\n",
       "      <td>0</td>\n",
       "      <td>0</td>\n",
       "      <td>1</td>\n",
       "      <td>1</td>\n",
       "      <td>16</td>\n",
       "      <td>2</td>\n",
       "    </tr>\n",
       "    <tr>\n",
       "      <th>1</th>\n",
       "      <td>125169024</td>\n",
       "      <td>0</td>\n",
       "      <td>0</td>\n",
       "      <td>0</td>\n",
       "      <td>0</td>\n",
       "      <td>3</td>\n",
       "      <td>3</td>\n",
       "      <td>0</td>\n",
       "      <td>0</td>\n",
       "      <td>0</td>\n",
       "      <td>0</td>\n",
       "      <td>0</td>\n",
       "      <td>0</td>\n",
       "      <td>0</td>\n",
       "      <td>0</td>\n",
       "      <td>0</td>\n",
       "      <td>0</td>\n",
       "      <td>2</td>\n",
       "    </tr>\n",
       "    <tr>\n",
       "      <th>2</th>\n",
       "      <td>126941437</td>\n",
       "      <td>0</td>\n",
       "      <td>0</td>\n",
       "      <td>0</td>\n",
       "      <td>0</td>\n",
       "      <td>0</td>\n",
       "      <td>28</td>\n",
       "      <td>0</td>\n",
       "      <td>0</td>\n",
       "      <td>0</td>\n",
       "      <td>0</td>\n",
       "      <td>0</td>\n",
       "      <td>0</td>\n",
       "      <td>5</td>\n",
       "      <td>10</td>\n",
       "      <td>10</td>\n",
       "      <td>13</td>\n",
       "      <td>2</td>\n",
       "    </tr>\n",
       "    <tr>\n",
       "      <th>3</th>\n",
       "      <td>132952490</td>\n",
       "      <td>0</td>\n",
       "      <td>0</td>\n",
       "      <td>0</td>\n",
       "      <td>0</td>\n",
       "      <td>13</td>\n",
       "      <td>192</td>\n",
       "      <td>0</td>\n",
       "      <td>0</td>\n",
       "      <td>0</td>\n",
       "      <td>0</td>\n",
       "      <td>10</td>\n",
       "      <td>0</td>\n",
       "      <td>0</td>\n",
       "      <td>0</td>\n",
       "      <td>0</td>\n",
       "      <td>3</td>\n",
       "      <td>2</td>\n",
       "    </tr>\n",
       "    <tr>\n",
       "      <th>4</th>\n",
       "      <td>150106223</td>\n",
       "      <td>0</td>\n",
       "      <td>0</td>\n",
       "      <td>0</td>\n",
       "      <td>2</td>\n",
       "      <td>2</td>\n",
       "      <td>2</td>\n",
       "      <td>0</td>\n",
       "      <td>0</td>\n",
       "      <td>0</td>\n",
       "      <td>0</td>\n",
       "      <td>0</td>\n",
       "      <td>0</td>\n",
       "      <td>0</td>\n",
       "      <td>0</td>\n",
       "      <td>0</td>\n",
       "      <td>0</td>\n",
       "      <td>2</td>\n",
       "    </tr>\n",
       "    <tr>\n",
       "      <th>5</th>\n",
       "      <td>166855134</td>\n",
       "      <td>0</td>\n",
       "      <td>0</td>\n",
       "      <td>1</td>\n",
       "      <td>17</td>\n",
       "      <td>72</td>\n",
       "      <td>274</td>\n",
       "      <td>0</td>\n",
       "      <td>0</td>\n",
       "      <td>0</td>\n",
       "      <td>0</td>\n",
       "      <td>2</td>\n",
       "      <td>0</td>\n",
       "      <td>1</td>\n",
       "      <td>2</td>\n",
       "      <td>14</td>\n",
       "      <td>37</td>\n",
       "      <td>2</td>\n",
       "    </tr>\n",
       "    <tr>\n",
       "      <th>6</th>\n",
       "      <td>167571223</td>\n",
       "      <td>0</td>\n",
       "      <td>2</td>\n",
       "      <td>53</td>\n",
       "      <td>97</td>\n",
       "      <td>323</td>\n",
       "      <td>1355</td>\n",
       "      <td>0</td>\n",
       "      <td>0</td>\n",
       "      <td>0</td>\n",
       "      <td>0</td>\n",
       "      <td>10</td>\n",
       "      <td>0</td>\n",
       "      <td>1</td>\n",
       "      <td>1</td>\n",
       "      <td>13</td>\n",
       "      <td>13</td>\n",
       "      <td>2</td>\n",
       "    </tr>\n",
       "    <tr>\n",
       "      <th>7</th>\n",
       "      <td>167575253</td>\n",
       "      <td>0</td>\n",
       "      <td>13</td>\n",
       "      <td>75</td>\n",
       "      <td>116</td>\n",
       "      <td>265</td>\n",
       "      <td>581</td>\n",
       "      <td>0</td>\n",
       "      <td>0</td>\n",
       "      <td>0</td>\n",
       "      <td>0</td>\n",
       "      <td>0</td>\n",
       "      <td>0</td>\n",
       "      <td>0</td>\n",
       "      <td>0</td>\n",
       "      <td>0</td>\n",
       "      <td>5</td>\n",
       "      <td>2</td>\n",
       "    </tr>\n",
       "    <tr>\n",
       "      <th>8</th>\n",
       "      <td>167592468</td>\n",
       "      <td>1</td>\n",
       "      <td>0</td>\n",
       "      <td>0</td>\n",
       "      <td>0</td>\n",
       "      <td>0</td>\n",
       "      <td>15</td>\n",
       "      <td>0</td>\n",
       "      <td>0</td>\n",
       "      <td>0</td>\n",
       "      <td>0</td>\n",
       "      <td>0</td>\n",
       "      <td>0</td>\n",
       "      <td>0</td>\n",
       "      <td>0</td>\n",
       "      <td>0</td>\n",
       "      <td>0</td>\n",
       "      <td>2</td>\n",
       "    </tr>\n",
       "    <tr>\n",
       "      <th>9</th>\n",
       "      <td>167635050</td>\n",
       "      <td>0</td>\n",
       "      <td>41</td>\n",
       "      <td>189</td>\n",
       "      <td>292</td>\n",
       "      <td>1113</td>\n",
       "      <td>2471</td>\n",
       "      <td>2</td>\n",
       "      <td>2</td>\n",
       "      <td>3</td>\n",
       "      <td>40</td>\n",
       "      <td>51</td>\n",
       "      <td>7</td>\n",
       "      <td>9</td>\n",
       "      <td>14</td>\n",
       "      <td>132</td>\n",
       "      <td>180</td>\n",
       "      <td>2</td>\n",
       "    </tr>\n",
       "  </tbody>\n",
       "</table>\n",
       "</div>"
      ],
      "text/plain": [
       "         uid  label  freq_P_last_1  freq_P_last_3  freq_P_last_7  \\\n",
       "0   11596711      0              0              8             28   \n",
       "1  125169024      0              0              0              0   \n",
       "2  126941437      0              0              0              0   \n",
       "3  132952490      0              0              0              0   \n",
       "4  150106223      0              0              0              2   \n",
       "5  166855134      0              0              1             17   \n",
       "6  167571223      0              2             53             97   \n",
       "7  167575253      0             13             75            116   \n",
       "8  167592468      1              0              0              0   \n",
       "9  167635050      0             41            189            292   \n",
       "\n",
       "   freq_P_last_14  freq_P_last_30  freq_D_last_1  freq_D_last_3  \\\n",
       "0              68             152              0              0   \n",
       "1               3               3              0              0   \n",
       "2               0              28              0              0   \n",
       "3              13             192              0              0   \n",
       "4               2               2              0              0   \n",
       "5              72             274              0              0   \n",
       "6             323            1355              0              0   \n",
       "7             265             581              0              0   \n",
       "8               0              15              0              0   \n",
       "9            1113            2471              2              2   \n",
       "\n",
       "   freq_D_last_7  freq_D_last_14  freq_D_last_30  freq_S_last_1  \\\n",
       "0              0               0               0              0   \n",
       "1              0               0               0              0   \n",
       "2              0               0               0              0   \n",
       "3              0               0              10              0   \n",
       "4              0               0               0              0   \n",
       "5              0               0               2              0   \n",
       "6              0               0              10              0   \n",
       "7              0               0               0              0   \n",
       "8              0               0               0              0   \n",
       "9              3              40              51              7   \n",
       "\n",
       "   freq_S_last_3  freq_S_last_7  freq_S_last_14  freq_S_last_30  device_type  \n",
       "0              0              1               1              16            2  \n",
       "1              0              0               0               0            2  \n",
       "2              5             10              10              13            2  \n",
       "3              0              0               0               3            2  \n",
       "4              0              0               0               0            2  \n",
       "5              1              2              14              37            2  \n",
       "6              1              1              13              13            2  \n",
       "7              0              0               0               5            2  \n",
       "8              0              0               0               0            2  \n",
       "9              9             14             132             180            2  "
      ]
     },
     "execution_count": 3,
     "metadata": {},
     "output_type": "execute_result"
    }
   ],
   "source": [
    "# Browse dataset\n",
    "df.head(10)"
   ]
  },
  {
   "cell_type": "code",
   "execution_count": 4,
   "metadata": {},
   "outputs": [
    {
     "data": {
      "text/html": [
       "<div>\n",
       "<style scoped>\n",
       "    .dataframe tbody tr th:only-of-type {\n",
       "        vertical-align: middle;\n",
       "    }\n",
       "\n",
       "    .dataframe tbody tr th {\n",
       "        vertical-align: top;\n",
       "    }\n",
       "\n",
       "    .dataframe thead th {\n",
       "        text-align: right;\n",
       "    }\n",
       "</style>\n",
       "<table border=\"1\" class=\"dataframe\">\n",
       "  <thead>\n",
       "    <tr style=\"text-align: right;\">\n",
       "      <th></th>\n",
       "      <th>uid</th>\n",
       "      <th>label</th>\n",
       "      <th>freq_P_last_1</th>\n",
       "      <th>freq_P_last_3</th>\n",
       "      <th>freq_P_last_7</th>\n",
       "      <th>freq_P_last_14</th>\n",
       "      <th>freq_P_last_30</th>\n",
       "      <th>freq_D_last_1</th>\n",
       "      <th>freq_D_last_3</th>\n",
       "      <th>freq_D_last_7</th>\n",
       "      <th>freq_D_last_14</th>\n",
       "      <th>freq_D_last_30</th>\n",
       "      <th>freq_S_last_1</th>\n",
       "      <th>freq_S_last_3</th>\n",
       "      <th>freq_S_last_7</th>\n",
       "      <th>freq_S_last_14</th>\n",
       "      <th>freq_S_last_30</th>\n",
       "      <th>device_type</th>\n",
       "    </tr>\n",
       "  </thead>\n",
       "  <tbody>\n",
       "    <tr>\n",
       "      <th>count</th>\n",
       "      <td>3.349800e+04</td>\n",
       "      <td>33498.000000</td>\n",
       "      <td>33498.000000</td>\n",
       "      <td>33498.000000</td>\n",
       "      <td>33498.000000</td>\n",
       "      <td>33498.000000</td>\n",
       "      <td>33498.000000</td>\n",
       "      <td>33498.000000</td>\n",
       "      <td>33498.000000</td>\n",
       "      <td>33498.000000</td>\n",
       "      <td>33498.000000</td>\n",
       "      <td>33498.000000</td>\n",
       "      <td>33498.00000</td>\n",
       "      <td>33498.000000</td>\n",
       "      <td>33498.000000</td>\n",
       "      <td>33498.000000</td>\n",
       "      <td>33498.000000</td>\n",
       "      <td>33498.000000</td>\n",
       "    </tr>\n",
       "    <tr>\n",
       "      <th>mean</th>\n",
       "      <td>1.670563e+08</td>\n",
       "      <td>0.308854</td>\n",
       "      <td>5.108245</td>\n",
       "      <td>15.663025</td>\n",
       "      <td>37.730462</td>\n",
       "      <td>78.030211</td>\n",
       "      <td>182.888471</td>\n",
       "      <td>0.127590</td>\n",
       "      <td>0.531912</td>\n",
       "      <td>1.268852</td>\n",
       "      <td>2.779121</td>\n",
       "      <td>6.945191</td>\n",
       "      <td>0.30560</td>\n",
       "      <td>0.920951</td>\n",
       "      <td>2.258015</td>\n",
       "      <td>4.642217</td>\n",
       "      <td>10.796167</td>\n",
       "      <td>1.828258</td>\n",
       "    </tr>\n",
       "    <tr>\n",
       "      <th>std</th>\n",
       "      <td>1.173053e+07</td>\n",
       "      <td>0.462028</td>\n",
       "      <td>19.165270</td>\n",
       "      <td>47.736537</td>\n",
       "      <td>95.092339</td>\n",
       "      <td>172.964708</td>\n",
       "      <td>338.721119</td>\n",
       "      <td>2.840469</td>\n",
       "      <td>8.835553</td>\n",
       "      <td>17.061217</td>\n",
       "      <td>25.168232</td>\n",
       "      <td>40.866934</td>\n",
       "      <td>2.08431</td>\n",
       "      <td>4.360993</td>\n",
       "      <td>8.576830</td>\n",
       "      <td>14.093495</td>\n",
       "      <td>27.265849</td>\n",
       "      <td>0.395098</td>\n",
       "    </tr>\n",
       "    <tr>\n",
       "      <th>min</th>\n",
       "      <td>1.039280e+05</td>\n",
       "      <td>0.000000</td>\n",
       "      <td>0.000000</td>\n",
       "      <td>0.000000</td>\n",
       "      <td>0.000000</td>\n",
       "      <td>0.000000</td>\n",
       "      <td>0.000000</td>\n",
       "      <td>0.000000</td>\n",
       "      <td>0.000000</td>\n",
       "      <td>0.000000</td>\n",
       "      <td>0.000000</td>\n",
       "      <td>0.000000</td>\n",
       "      <td>0.00000</td>\n",
       "      <td>0.000000</td>\n",
       "      <td>0.000000</td>\n",
       "      <td>0.000000</td>\n",
       "      <td>0.000000</td>\n",
       "      <td>0.000000</td>\n",
       "    </tr>\n",
       "    <tr>\n",
       "      <th>25%</th>\n",
       "      <td>1.679348e+08</td>\n",
       "      <td>0.000000</td>\n",
       "      <td>0.000000</td>\n",
       "      <td>0.000000</td>\n",
       "      <td>0.000000</td>\n",
       "      <td>0.000000</td>\n",
       "      <td>13.000000</td>\n",
       "      <td>0.000000</td>\n",
       "      <td>0.000000</td>\n",
       "      <td>0.000000</td>\n",
       "      <td>0.000000</td>\n",
       "      <td>0.000000</td>\n",
       "      <td>0.00000</td>\n",
       "      <td>0.000000</td>\n",
       "      <td>0.000000</td>\n",
       "      <td>0.000000</td>\n",
       "      <td>0.000000</td>\n",
       "      <td>2.000000</td>\n",
       "    </tr>\n",
       "    <tr>\n",
       "      <th>50%</th>\n",
       "      <td>1.683064e+08</td>\n",
       "      <td>0.000000</td>\n",
       "      <td>0.000000</td>\n",
       "      <td>0.000000</td>\n",
       "      <td>1.000000</td>\n",
       "      <td>12.000000</td>\n",
       "      <td>58.000000</td>\n",
       "      <td>0.000000</td>\n",
       "      <td>0.000000</td>\n",
       "      <td>0.000000</td>\n",
       "      <td>0.000000</td>\n",
       "      <td>0.000000</td>\n",
       "      <td>0.00000</td>\n",
       "      <td>0.000000</td>\n",
       "      <td>0.000000</td>\n",
       "      <td>0.000000</td>\n",
       "      <td>2.000000</td>\n",
       "      <td>2.000000</td>\n",
       "    </tr>\n",
       "    <tr>\n",
       "      <th>75%</th>\n",
       "      <td>1.686706e+08</td>\n",
       "      <td>1.000000</td>\n",
       "      <td>0.000000</td>\n",
       "      <td>8.000000</td>\n",
       "      <td>31.000000</td>\n",
       "      <td>76.000000</td>\n",
       "      <td>196.000000</td>\n",
       "      <td>0.000000</td>\n",
       "      <td>0.000000</td>\n",
       "      <td>0.000000</td>\n",
       "      <td>0.000000</td>\n",
       "      <td>2.000000</td>\n",
       "      <td>0.00000</td>\n",
       "      <td>0.000000</td>\n",
       "      <td>1.000000</td>\n",
       "      <td>3.000000</td>\n",
       "      <td>11.000000</td>\n",
       "      <td>2.000000</td>\n",
       "    </tr>\n",
       "    <tr>\n",
       "      <th>max</th>\n",
       "      <td>1.692584e+08</td>\n",
       "      <td>1.000000</td>\n",
       "      <td>550.000000</td>\n",
       "      <td>1553.000000</td>\n",
       "      <td>1909.000000</td>\n",
       "      <td>2908.000000</td>\n",
       "      <td>4534.000000</td>\n",
       "      <td>404.000000</td>\n",
       "      <td>1073.000000</td>\n",
       "      <td>2146.000000</td>\n",
       "      <td>2146.000000</td>\n",
       "      <td>2146.000000</td>\n",
       "      <td>119.00000</td>\n",
       "      <td>201.000000</td>\n",
       "      <td>294.000000</td>\n",
       "      <td>567.000000</td>\n",
       "      <td>944.000000</td>\n",
       "      <td>2.000000</td>\n",
       "    </tr>\n",
       "  </tbody>\n",
       "</table>\n",
       "</div>"
      ],
      "text/plain": [
       "                uid         label  freq_P_last_1  freq_P_last_3  \\\n",
       "count  3.349800e+04  33498.000000   33498.000000   33498.000000   \n",
       "mean   1.670563e+08      0.308854       5.108245      15.663025   \n",
       "std    1.173053e+07      0.462028      19.165270      47.736537   \n",
       "min    1.039280e+05      0.000000       0.000000       0.000000   \n",
       "25%    1.679348e+08      0.000000       0.000000       0.000000   \n",
       "50%    1.683064e+08      0.000000       0.000000       0.000000   \n",
       "75%    1.686706e+08      1.000000       0.000000       8.000000   \n",
       "max    1.692584e+08      1.000000     550.000000    1553.000000   \n",
       "\n",
       "       freq_P_last_7  freq_P_last_14  freq_P_last_30  freq_D_last_1  \\\n",
       "count   33498.000000    33498.000000    33498.000000   33498.000000   \n",
       "mean       37.730462       78.030211      182.888471       0.127590   \n",
       "std        95.092339      172.964708      338.721119       2.840469   \n",
       "min         0.000000        0.000000        0.000000       0.000000   \n",
       "25%         0.000000        0.000000       13.000000       0.000000   \n",
       "50%         1.000000       12.000000       58.000000       0.000000   \n",
       "75%        31.000000       76.000000      196.000000       0.000000   \n",
       "max      1909.000000     2908.000000     4534.000000     404.000000   \n",
       "\n",
       "       freq_D_last_3  freq_D_last_7  freq_D_last_14  freq_D_last_30  \\\n",
       "count   33498.000000   33498.000000    33498.000000    33498.000000   \n",
       "mean        0.531912       1.268852        2.779121        6.945191   \n",
       "std         8.835553      17.061217       25.168232       40.866934   \n",
       "min         0.000000       0.000000        0.000000        0.000000   \n",
       "25%         0.000000       0.000000        0.000000        0.000000   \n",
       "50%         0.000000       0.000000        0.000000        0.000000   \n",
       "75%         0.000000       0.000000        0.000000        2.000000   \n",
       "max      1073.000000    2146.000000     2146.000000     2146.000000   \n",
       "\n",
       "       freq_S_last_1  freq_S_last_3  freq_S_last_7  freq_S_last_14  \\\n",
       "count    33498.00000   33498.000000   33498.000000    33498.000000   \n",
       "mean         0.30560       0.920951       2.258015        4.642217   \n",
       "std          2.08431       4.360993       8.576830       14.093495   \n",
       "min          0.00000       0.000000       0.000000        0.000000   \n",
       "25%          0.00000       0.000000       0.000000        0.000000   \n",
       "50%          0.00000       0.000000       0.000000        0.000000   \n",
       "75%          0.00000       0.000000       1.000000        3.000000   \n",
       "max        119.00000     201.000000     294.000000      567.000000   \n",
       "\n",
       "       freq_S_last_30   device_type  \n",
       "count    33498.000000  33498.000000  \n",
       "mean        10.796167      1.828258  \n",
       "std         27.265849      0.395098  \n",
       "min          0.000000      0.000000  \n",
       "25%          0.000000      2.000000  \n",
       "50%          2.000000      2.000000  \n",
       "75%         11.000000      2.000000  \n",
       "max        944.000000      2.000000  "
      ]
     },
     "execution_count": 4,
     "metadata": {},
     "output_type": "execute_result"
    }
   ],
   "source": [
    "# Show summary stats\n",
    "df.describe()"
   ]
  },
  {
   "cell_type": "code",
   "execution_count": 5,
   "metadata": {},
   "outputs": [],
   "source": [
    "df['device_type_1'] = (df['device_type'] == 1).astype(int)\n",
    "df['device_type_2'] = (df['device_type'] == 2).astype(int)"
   ]
  },
  {
   "cell_type": "markdown",
   "metadata": {},
   "source": [
    "### Define Features and Target"
   ]
  },
  {
   "cell_type": "code",
   "execution_count": 6,
   "metadata": {},
   "outputs": [],
   "source": [
    "selected_features = list(df.columns.values)"
   ]
  },
  {
   "cell_type": "code",
   "execution_count": 7,
   "metadata": {},
   "outputs": [
    {
     "data": {
      "text/plain": [
       "['freq_P_last_1',\n",
       " 'freq_P_last_3',\n",
       " 'freq_P_last_7',\n",
       " 'freq_P_last_14',\n",
       " 'freq_P_last_30',\n",
       " 'freq_D_last_1',\n",
       " 'freq_D_last_3',\n",
       " 'freq_D_last_7',\n",
       " 'freq_D_last_14',\n",
       " 'freq_D_last_30',\n",
       " 'freq_S_last_1',\n",
       " 'freq_S_last_3',\n",
       " 'freq_S_last_7',\n",
       " 'freq_S_last_14',\n",
       " 'freq_S_last_30',\n",
       " 'device_type_1',\n",
       " 'device_type_2']"
      ]
     },
     "execution_count": 7,
     "metadata": {},
     "output_type": "execute_result"
    }
   ],
   "source": [
    "selected_features.remove('uid')\n",
    "selected_features.remove('label')\n",
    "selected_features.remove('device_type')\n",
    "selected_features"
   ]
  },
  {
   "cell_type": "code",
   "execution_count": 8,
   "metadata": {},
   "outputs": [],
   "source": [
    "X = df[selected_features]\n",
    "y = df['label']"
   ]
  },
  {
   "cell_type": "code",
   "execution_count": 9,
   "metadata": {},
   "outputs": [
    {
     "data": {
      "text/plain": [
       "(33498, 17)"
      ]
     },
     "execution_count": 9,
     "metadata": {},
     "output_type": "execute_result"
    }
   ],
   "source": [
    "X.shape"
   ]
  },
  {
   "cell_type": "code",
   "execution_count": 10,
   "metadata": {},
   "outputs": [
    {
     "data": {
      "text/plain": [
       "0        0\n",
       "1        0\n",
       "2        0\n",
       "3        0\n",
       "4        0\n",
       "5        0\n",
       "6        0\n",
       "7        0\n",
       "8        1\n",
       "9        0\n",
       "10       0\n",
       "11       0\n",
       "12       0\n",
       "13       1\n",
       "14       0\n",
       "15       1\n",
       "16       0\n",
       "17       1\n",
       "18       1\n",
       "19       0\n",
       "20       0\n",
       "21       0\n",
       "22       0\n",
       "23       0\n",
       "24       1\n",
       "25       0\n",
       "26       1\n",
       "27       0\n",
       "28       0\n",
       "29       0\n",
       "        ..\n",
       "33468    1\n",
       "33469    1\n",
       "33470    1\n",
       "33471    0\n",
       "33472    1\n",
       "33473    0\n",
       "33474    0\n",
       "33475    1\n",
       "33476    0\n",
       "33477    1\n",
       "33478    0\n",
       "33479    0\n",
       "33480    0\n",
       "33481    0\n",
       "33482    0\n",
       "33483    0\n",
       "33484    0\n",
       "33485    0\n",
       "33486    0\n",
       "33487    1\n",
       "33488    0\n",
       "33489    0\n",
       "33490    0\n",
       "33491    0\n",
       "33492    0\n",
       "33493    0\n",
       "33494    0\n",
       "33495    0\n",
       "33496    0\n",
       "33497    1\n",
       "Name: label, Length: 33498, dtype: int64"
      ]
     },
     "execution_count": 10,
     "metadata": {},
     "output_type": "execute_result"
    }
   ],
   "source": [
    "y"
   ]
  },
  {
   "cell_type": "markdown",
   "metadata": {},
   "source": [
    "#### Let's Train-test split the data!"
   ]
  },
  {
   "cell_type": "code",
   "execution_count": 11,
   "metadata": {},
   "outputs": [],
   "source": [
    "# import train test split function from sklearn\n",
    "from sklearn.model_selection import train_test_split\n",
    "X_train, X_test, y_train, y_test = train_test_split(X, y, test_size=0.2, random_state=0)"
   ]
  },
  {
   "cell_type": "markdown",
   "metadata": {},
   "source": [
    "### Train model using sklearn"
   ]
  },
  {
   "cell_type": "code",
   "execution_count": 12,
   "metadata": {},
   "outputs": [],
   "source": [
    "# define function to perform train, test, and get model performance\n",
    "def train_test_model(clf, X_train, y_train, X_test, y_test):\n",
    "    # Fit a model by providing X and y from training set\n",
    "    clf.fit(X_train, y_train)\n",
    "\n",
    "    # Make prediction on the training data\n",
    "    y_train_pred = clf.predict(X_train)\n",
    "    p_train_pred = clf.predict_proba(X_train)[:,1]\n",
    "\n",
    "    # Make predictions on test data\n",
    "    y_test_pred = clf.predict(X_test)\n",
    "    p_test_pred = clf.predict_proba(X_test)[:,1]\n",
    "\n",
    "    # print model results\n",
    "    get_performance_metrics(y_train, p_train_pred, y_test, p_test_pred)\n",
    "    plot_roc_curve(y_train, p_train_pred, y_test, p_test_pred)\n"
   ]
  },
  {
   "cell_type": "markdown",
   "metadata": {},
   "source": [
    "### Calculate the metric scores for the model"
   ]
  },
  {
   "cell_type": "code",
   "execution_count": 13,
   "metadata": {},
   "outputs": [],
   "source": [
    "%matplotlib inline\n",
    "import matplotlib.pyplot as plt\n",
    "from sklearn.metrics import roc_curve, auc\n",
    "\n",
    "def plot_roc_curve(y_train, y_train_pred, y_test, y_test_pred):\n",
    "    roc_auc_train = roc_auc_score(y_train, y_train_pred)\n",
    "    fpr_train, tpr_train, _ = roc_curve(y_train, y_train_pred)\n",
    "\n",
    "    roc_auc_test = roc_auc_score(y_test, y_test_pred)\n",
    "    fpr_test, tpr_test, _ = roc_curve(y_test, y_test_pred)\n",
    "    plt.figure()\n",
    "    lw = 2\n",
    "    plt.plot(fpr_train, tpr_train, color='green',\n",
    "             lw=lw, label='ROC Train (AUC = %0.4f)' % roc_auc_train)\n",
    "    plt.plot(fpr_test, tpr_test, color='darkorange',\n",
    "             lw=lw, label='ROC Test (AUC = %0.4f)' % roc_auc_test)\n",
    "    plt.plot([0, 1], [0, 1], color='navy', lw=lw, linestyle='--')\n",
    "    plt.xlim([0.0, 1.0])\n",
    "    plt.ylim([0.0, 1.05])\n",
    "    plt.xlabel('False Positive Rate')\n",
    "    plt.ylabel('True Positive Rate')\n",
    "    plt.title('Receiver operating characteristic example')\n",
    "    plt.legend(loc=\"lower right\")\n",
    "    plt.show()"
   ]
  },
  {
   "cell_type": "code",
   "execution_count": 14,
   "metadata": {},
   "outputs": [],
   "source": [
    "# Import metrics functions from sklearn\n",
    "from sklearn.metrics import precision_score, accuracy_score, recall_score, f1_score, roc_auc_score"
   ]
  },
  {
   "cell_type": "code",
   "execution_count": 15,
   "metadata": {},
   "outputs": [],
   "source": [
    "import pandas as pd\n",
    "# Helper method to print metric scores    \n",
    "def get_performance_metrics(y_train, y_train_pred, y_test, y_test_pred, threshold=0.5):\n",
    "    metric_names = ['AUC','Accuracy','Precision','Recall','f1-score']\n",
    "    metric_values_train = [roc_auc_score(y_train, y_train_pred),\n",
    "                    accuracy_score(y_train, y_train_pred>threshold),\n",
    "                    precision_score(y_train, y_train_pred>threshold),\n",
    "                    recall_score(y_train, y_train_pred>threshold),\n",
    "                    f1_score(y_train, y_train_pred>threshold)\n",
    "                   ]\n",
    "    metric_values_test = [roc_auc_score(y_test, y_test_pred),\n",
    "                    accuracy_score(y_test, y_test_pred>threshold),\n",
    "                    precision_score(y_test, y_test_pred>threshold),\n",
    "                    recall_score(y_test, y_test_pred>threshold),\n",
    "                    f1_score(y_test, y_test_pred>threshold)\n",
    "                   ]\n",
    "    all_metrics = pd.DataFrame({'metrics':metric_names,\n",
    "                                'train':metric_values_train,\n",
    "                                'test':metric_values_test},columns=['metrics','train','test']).set_index('metrics')\n",
    "    print(all_metrics)"
   ]
  },
  {
   "cell_type": "markdown",
   "metadata": {},
   "source": [
    "### Logistic Regression"
   ]
  },
  {
   "cell_type": "code",
   "execution_count": 16,
   "metadata": {},
   "outputs": [
    {
     "name": "stderr",
     "output_type": "stream",
     "text": [
      "/Users/juhe/anaconda3/lib/python3.6/site-packages/sklearn/linear_model/base.py:340: RuntimeWarning: overflow encountered in exp\n",
      "  np.exp(prob, prob)\n"
     ]
    },
    {
     "name": "stdout",
     "output_type": "stream",
     "text": [
      "              train      test\n",
      "metrics                      \n",
      "AUC        0.987089  0.986751\n",
      "Accuracy   0.934137  0.928507\n",
      "Precision  0.841136  0.829865\n",
      "Recall     0.969091  0.970420\n",
      "f1-score   0.900591  0.894656\n"
     ]
    },
    {
     "data": {
      "image/png": "[encoded data removed]",
      "text/plain": [
       "<matplotlib.figure.Figure at 0x1a0b08b8d0>"
      ]
     },
     "metadata": {},
     "output_type": "display_data"
    }
   ],
   "source": [
    "# Import logistic regression from sklearn\n",
    "from sklearn.linear_model import LogisticRegression\n",
    "\n",
    "# Initialize model by providing parameters\n",
    "# http://scikit-learn.org/stable/modules/generated/sklearn.linear_model.LogisticRegression.html\n",
    "clf = LogisticRegression(C=1.0, penalty='l2')\n",
    "# Fit a model by providing X and y from training set\n",
    "clf.fit(X_train, y_train)\n",
    "\n",
    "# Train test model\n",
    "train_test_model(clf, X_train, y_train, X_test, y_test)"
   ]
  },
  {
   "cell_type": "markdown",
   "metadata": {},
   "source": [
    "### Random Forest"
   ]
  },
  {
   "cell_type": "code",
   "execution_count": 17,
   "metadata": {},
   "outputs": [
    {
     "name": "stdout",
     "output_type": "stream",
     "text": [
      "              train      test\n",
      "metrics                      \n",
      "AUC        0.993423  0.990341\n",
      "Accuracy   0.973207  0.973433\n",
      "Precision  0.976227  0.978066\n",
      "Recall     0.935758  0.936069\n",
      "f1-score   0.955564  0.956607\n"
     ]
    },
    {
     "data": {
      "image/png": "[encoded data removed]",
      "text/plain": [
       "<matplotlib.figure.Figure at 0x1a12c68c50>"
      ]
     },
     "metadata": {},
     "output_type": "display_data"
    }
   ],
   "source": [
    "# http://scikit-learn.org/stable/modules/generated/sklearn.ensemble.RandomForestClassifier.html\n",
    "from sklearn.ensemble import RandomForestClassifier\n",
    "\n",
    "# Choose some parameter combinations to try\n",
    "parameters = {'n_estimators': 50,\n",
    "              'max_features': 'auto',\n",
    "              'criterion': 'gini',\n",
    "              'max_depth': 20,\n",
    "              'min_samples_split': 2,\n",
    "              'min_samples_leaf': 20,\n",
    "              'random_state': 0,\n",
    "              'n_jobs': -1\n",
    "              }\n",
    "\n",
    "clf = RandomForestClassifier(**parameters)\n",
    "\n",
    "# Fit a model by providing X and y from training set\n",
    "clf.fit(X_train, y_train)\n",
    "\n",
    "# Train test model\n",
    "train_test_model(clf, X_train, y_train, X_test, y_test)"
   ]
  },
  {
   "cell_type": "code",
   "execution_count": 18,
   "metadata": {},
   "outputs": [
    {
     "data": {
      "image/png": "[encoded data removed]",
      "text/plain": [
       "<matplotlib.figure.Figure at 0x1a16211a58>"
      ]
     },
     "metadata": {},
     "output_type": "display_data"
    }
   ],
   "source": [
    "df_feature_importance = pd.DataFrame()\n",
    "df_feature_importance['feature'] = selected_features\n",
    "df_feature_importance['importance'] = clf.feature_importances_\n",
    "df_feature_importance.sort_values('importance',inplace=True)\n",
    "\n",
    "ax = df_feature_importance.plot.barh()\n",
    "t = np.arange(len(df_feature_importance['feature']))\n",
    "ax.set_yticks(t)\n",
    "ax.set_yticklabels(df_feature_importance['feature'])\n",
    "plt.show()"
   ]
  },
  {
   "cell_type": "markdown",
   "metadata": {},
   "source": [
    "### Gradient Boosting Trees"
   ]
  },
  {
   "cell_type": "code",
   "execution_count": 19,
   "metadata": {},
   "outputs": [
    {
     "name": "stdout",
     "output_type": "stream",
     "text": [
      "              train      test\n",
      "metrics                      \n",
      "AUC        0.994776  0.990744\n",
      "Accuracy   0.974849  0.973731\n",
      "Precision  0.977319  0.978088\n",
      "Recall     0.940121  0.937023\n",
      "f1-score   0.958359  0.957115\n"
     ]
    },
    {
     "data": {
      "image/png": "[encoded data removed]",
      "text/plain": [
       "<matplotlib.figure.Figure at 0x1a1622d630>"
      ]
     },
     "metadata": {},
     "output_type": "display_data"
    }
   ],
   "source": [
    "# http://scikit-learn.org/stable/modules/generated/sklearn.ensemble.GradientBoostingClassifier.html\n",
    "from sklearn.ensemble import GradientBoostingClassifier\n",
    "\n",
    "# Choose some parameter combinations to try\n",
    "parameters = {\n",
    "    'n_estimators': 100,\n",
    "    'max_depth': 5,\n",
    "    'learning_rate': 0.1,\n",
    "    'random_state': 42\n",
    "}\n",
    "\n",
    "# parameters = {\n",
    "#     'n_estimators': 50,\n",
    "#     'max_depth': 5,\n",
    "#     'learning_rate': 0.2,\n",
    "#     'subsample': 0.7,\n",
    "#     'max_features':0.8,\n",
    "#     'random_state': 42\n",
    "# }\n",
    "\n",
    "clf = GradientBoostingClassifier(**parameters)\n",
    "\n",
    "# Train test model\n",
    "train_test_model(clf, X_train, y_train, X_test, y_test)"
   ]
  },
  {
   "cell_type": "markdown",
   "metadata": {},
   "source": [
    "### Neural Network"
   ]
  },
  {
   "cell_type": "code",
   "execution_count": 20,
   "metadata": {},
   "outputs": [
    {
     "name": "stdout",
     "output_type": "stream",
     "text": [
      "              train      test\n",
      "metrics                      \n",
      "AUC        0.990303  0.990343\n",
      "Accuracy   0.971714  0.972836\n",
      "Precision  0.973578  0.977069\n",
      "Recall     0.933455  0.935115\n",
      "f1-score   0.953094  0.955631\n"
     ]
    },
    {
     "data": {
      "image/png": "[encoded data removed]",
      "text/plain": [
       "<matplotlib.figure.Figure at 0x1a0b5af278>"
      ]
     },
     "metadata": {},
     "output_type": "display_data"
    }
   ],
   "source": [
    "# http://scikit-learn.org/stable/modules/generated/sklearn.neural_network.MLPClassifier.html#sklearn.neural_network.MLPClassifier\n",
    "from sklearn.neural_network import MLPClassifier\n",
    "\n",
    "# Choose some parameter combinations to try\n",
    "parameters = {\n",
    "    'solver':'adam', \n",
    "    'activation':'relu',\n",
    "    'alpha':1e-5, #increase alpha->increase penalty :: http://scikit-learn.org/stable/auto_examples/neural_networks/plot_mlp_alpha.html#sphx-glr-auto-examples-neural-networks-plot-mlp-alpha-py\n",
    "    'hidden_layer_sizes':(5,5), \n",
    "    'learning_rate':'adaptive',\n",
    "    'random_state':1\n",
    "    }\n",
    "clf = MLPClassifier(**parameters)\n",
    "\n",
    "# Train test model\n",
    "train_test_model(clf, X_train, y_train, X_test, y_test)"
   ]
  },
  {
   "cell_type": "markdown",
   "metadata": {},
   "source": [
    "### HyperParameter Tuning: Grid Search"
   ]
  },
  {
   "cell_type": "code",
   "execution_count": 42,
   "metadata": {},
   "outputs": [
    {
     "data": {
      "text/plain": [
       "RandomForestClassifier(bootstrap=True, class_weight=None, criterion='gini',\n",
       "            max_depth=20, max_features='auto', max_leaf_nodes=None,\n",
       "            min_impurity_decrease=0.0, min_impurity_split=None,\n",
       "            min_samples_leaf=2, min_samples_split=2,\n",
       "            min_weight_fraction_leaf=0.0, n_estimators=100, n_jobs=-1,\n",
       "            oob_score=False, random_state=None, verbose=0,\n",
       "            warm_start=False)"
      ]
     },
     "execution_count": 42,
     "metadata": {},
     "output_type": "execute_result"
    }
   ],
   "source": [
    "from sklearn.ensemble import RandomForestClassifier\n",
    "from sklearn.metrics import make_scorer, roc_auc_score, accuracy_score\n",
    "from sklearn.model_selection import GridSearchCV\n",
    "\n",
    "# Choose the type of classifier. \n",
    "clf = RandomForestClassifier()\n",
    "\n",
    "# Choose some parameter combinations to try\n",
    "param_grid = {'n_estimators': [100,200], \n",
    "              'max_features': ['auto'], \n",
    "              'criterion': ['gini'],\n",
    "              'max_depth': [15,20,25], \n",
    "              'min_samples_split': [2],\n",
    "              'min_samples_leaf': [2,10,20],\n",
    "              'n_jobs':[-1]\n",
    "             }\n",
    "\n",
    "# Type of scoring used to compare parameter combinations\n",
    "acc_scorer = make_scorer(roc_auc_score)\n",
    "\n",
    "# Run the grid search\n",
    "# read theory\n",
    "grid_obj = GridSearchCV(clf, param_grid, cv=5, scoring=acc_scorer)\n",
    "grid_obj = grid_obj.fit(X_train, y_train)\n",
    "\n",
    "# Set the clf to the best combination of parameters\n",
    "clf = grid_obj.best_estimator_\n",
    "\n",
    "# Fit the best algorithm to the data. \n",
    "clf.fit(X_train, y_train)"
   ]
  },
  {
   "cell_type": "code",
   "execution_count": 43,
   "metadata": {},
   "outputs": [
    {
     "name": "stdout",
     "output_type": "stream",
     "text": [
      "              train      test\n",
      "metrics                      \n",
      "AUC        0.997772  0.990531\n",
      "Accuracy   0.976827  0.973881\n",
      "Precision  0.977111  0.977149\n",
      "Recall     0.946909  0.938454\n",
      "f1-score   0.961773  0.957411\n"
     ]
    },
    {
     "data": {
      "image/png": "[encoded data removed]",
      "text/plain": [
       "<matplotlib.figure.Figure at 0x1a21182668>"
      ]
     },
     "metadata": {},
     "output_type": "display_data"
    }
   ],
   "source": [
    "# Train test model\n",
    "train_test_model(clf, X_train, y_train, X_test, y_test)"
   ]
  },
  {
   "cell_type": "code",
   "execution_count": null,
   "metadata": {
    "collapsed": true
   },
   "outputs": [],
   "source": []
  }
 ],
 "metadata": {
  "anaconda-cloud": {},
  "kernelspec": {
   "display_name": "Python 3",
   "language": "python",
   "name": "python3"
  },
  "language_info": {
   "codemirror_mode": {
    "name": "ipython",
    "version": 3
   },
   "file_extension": ".py",
   "mimetype": "text/x-python",
   "name": "python",
   "nbconvert_exporter": "python",
   "pygments_lexer": "ipython3",
   "version": "3.6.4"
  }
 },
 "nbformat": 4,
 "nbformat_minor": 1
}
